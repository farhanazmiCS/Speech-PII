{
 "cells": [
  {
   "cell_type": "markdown",
   "id": "dfd12537",
   "metadata": {},
   "source": [
    "# Baseline performance with Spacy"
   ]
  },
  {
   "cell_type": "code",
   "execution_count": 1,
   "id": "06caa2a5",
   "metadata": {},
   "outputs": [
    {
     "data": {
      "text/plain": [
       "'/Users/farhan/Desktop/Research'"
      ]
     },
     "execution_count": 1,
     "metadata": {},
     "output_type": "execute_result"
    }
   ],
   "source": [
    "import os\n",
    "\n",
    "os.chdir('..')\n",
    "os.getcwd()"
   ]
  },
  {
   "cell_type": "code",
   "execution_count": 3,
   "id": "fbc18b90",
   "metadata": {},
   "outputs": [
    {
     "name": "stderr",
     "output_type": "stream",
     "text": [
      "/Users/farhan/Desktop/Research/code/env/lib/python3.12/site-packages/spacy/util.py:922: UserWarning: [W095] Model 'en_pipeline' (0.0.0) was trained with spaCy v3.7.6 and may not be 100% compatible with the current version (3.8.7). If you see errors or degraded performance, download a newer compatible model or retrain your custom model with the current spaCy version. For more details and available updates, run: python -m spacy validate\n",
      "  warnings.warn(warn_msg)\n"
     ]
    }
   ],
   "source": [
    "import spacy\n",
    "\n",
    "nlp = spacy.load(\"code/Final_augmented_data_base_sim_0.6_trf\")"
   ]
  },
  {
   "cell_type": "code",
   "execution_count": 14,
   "id": "7e139c7a",
   "metadata": {},
   "outputs": [
    {
     "name": "stdout",
     "output_type": "stream",
     "text": [
      "29 40 NRIC T 7890123 G\n"
     ]
    }
   ],
   "source": [
    "text = \"  One Ling  take out her NRIC  T 7890123 G  at the clinic counter, so prepared to see it\"\n",
    "doc = nlp(text.strip())\n",
    "\n",
    "for ent in doc.ents:\n",
    "    print(ent.start_char, ent.end_char, ent.label_, ent.text)"
   ]
  },
  {
   "cell_type": "markdown",
   "id": "3f3d7782",
   "metadata": {},
   "source": [
    "With the entire dataset"
   ]
  },
  {
   "cell_type": "code",
   "execution_count": null,
   "id": "f347784f",
   "metadata": {},
   "outputs": [
    {
     "name": "stdout",
     "output_type": "stream",
     "text": [
      "Wrote 500 rows → 'data/triplets_new/triplets_500_spacy_baseline.csv'\n"
     ]
    }
   ],
   "source": [
    "import pandas as pd\n",
    "import spacy\n",
    "\n",
    "# ── PARAMETERS ────────────────────────────────────────────────────────────────\n",
    "model_dir   = \"code/Final_augmented_data_base_sim_0.6_trf\"               # your spaCy model folder\n",
    "input_csv   = \"data/transcripts_all/500_test_transcriptions_greedy.csv\"      # path to your input CSV                          \n",
    "output_csv  = \"data/triplets_new/triplets_500_spacy_baseline.csv\"        # where to write the result\n",
    "text_col    = \"transcript\"                                               # name of the column with the transcript\n",
    "# ──────────────────────────────────────────────────────────────────────────────\n",
    "\n",
    "# 1) load the spaCy model\n",
    "nlp = spacy.load(model_dir)\n",
    "\n",
    "# 2) define a small helper\n",
    "def extract_triplets(txt: str):\n",
    "    if not isinstance(txt, str):\n",
    "        return []\n",
    "    doc = nlp(txt.strip())\n",
    "    return [(ent.start_char, ent.end_char, ent.label_) for ent in doc.ents]\n",
    "\n",
    "# 3) read, apply, and write\n",
    "df = pd.read_csv(input_csv)\n",
    "df[\"pii_tuples\"] = df[text_col].apply(extract_triplets)\n",
    "\n",
    "# 4) save\n",
    "df.to_csv(output_csv, index=False)\n",
    "print(f\"Wrote {len(df)} rows → {output_csv!r}\")"
   ]
  }
 ],
 "metadata": {
  "kernelspec": {
   "display_name": "env",
   "language": "python",
   "name": "python3"
  },
  "language_info": {
   "codemirror_mode": {
    "name": "ipython",
    "version": 3
   },
   "file_extension": ".py",
   "mimetype": "text/x-python",
   "name": "python",
   "nbconvert_exporter": "python",
   "pygments_lexer": "ipython3",
   "version": "3.12.2"
  }
 },
 "nbformat": 4,
 "nbformat_minor": 5
}
